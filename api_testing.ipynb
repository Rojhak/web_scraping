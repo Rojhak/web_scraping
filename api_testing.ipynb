{
 "cells": [
  {
   "cell_type": "code",
   "execution_count": 1,
   "metadata": {},
   "outputs": [],
   "source": [
    "import requests\n",
    "from dotenv import load_dotenv\n",
    "import os"
   ]
  },
  {
   "cell_type": "code",
   "execution_count": 2,
   "metadata": {},
   "outputs": [],
   "source": [
    "api_key = os.getenv(\"API_KEY\")"
   ]
  },
  {
   "cell_type": "code",
   "execution_count": 4,
   "metadata": {},
   "outputs": [
    {
     "name": "stdout",
     "output_type": "stream",
     "text": [
      "<Response [200]>\n"
     ]
    }
   ],
   "source": [
    "url = f\"http://api.weatherapi.com/v1/current.json?key={api_key}&q=Berlin&aqi=no\"\n",
    "response = requests.get(url)\n",
    "\n",
    "print(response)"
   ]
  },
  {
   "cell_type": "code",
   "execution_count": null,
   "metadata": {},
   "outputs": [
    {
     "name": "stdout",
     "output_type": "stream",
     "text": [
      "{'location': {'name': 'Berlin', 'region': 'Berlin', 'country': 'Germany', 'lat': 52.5167, 'lon': 13.4, 'tz_id': 'Europe/Berlin', 'localtime_epoch': 1730803662, 'localtime': '2024-11-05 11:47'}, 'current': {'last_updated_epoch': 1730803500, 'last_updated': '2024-11-05 11:45', 'temp_c': 9.0, 'temp_f': 48.2, 'is_day': 1, 'condition': {'text': 'Partly cloudy', 'icon': '//cdn.weatherapi.com/weather/64x64/day/116.png', 'code': 1003}, 'wind_mph': 6.5, 'wind_kph': 10.4, 'wind_degree': 134, 'wind_dir': 'SE', 'pressure_mb': 1028.0, 'pressure_in': 30.36, 'precip_mm': 0.0, 'precip_in': 0.0, 'humidity': 81, 'cloud': 50, 'feelslike_c': 7.4, 'feelslike_f': 45.2, 'windchill_c': 8.2, 'windchill_f': 46.7, 'heatindex_c': 9.7, 'heatindex_f': 49.4, 'dewpoint_c': 4.0, 'dewpoint_f': 39.2, 'vis_km': 10.0, 'vis_miles': 6.0, 'uv': 1.0, 'gust_mph': 8.2, 'gust_kph': 13.1}}\n",
      "200\n"
     ]
    }
   ],
   "source": [
    "print (response.json())\n",
    "print (response.status_code)"
   ]
  },
  {
   "cell_type": "code",
   "execution_count": 8,
   "metadata": {},
   "outputs": [
    {
     "data": {
      "text/plain": [
       "{'location': {'name': 'Berlin',\n",
       "  'region': 'Berlin',\n",
       "  'country': 'Germany',\n",
       "  'lat': 52.5167,\n",
       "  'lon': 13.4,\n",
       "  'tz_id': 'Europe/Berlin',\n",
       "  'localtime_epoch': 1730803662,\n",
       "  'localtime': '2024-11-05 11:47'},\n",
       " 'current': {'last_updated_epoch': 1730803500,\n",
       "  'last_updated': '2024-11-05 11:45',\n",
       "  'temp_c': 9.0,\n",
       "  'temp_f': 48.2,\n",
       "  'is_day': 1,\n",
       "  'condition': {'text': 'Partly cloudy',\n",
       "   'icon': '//cdn.weatherapi.com/weather/64x64/day/116.png',\n",
       "   'code': 1003},\n",
       "  'wind_mph': 6.5,\n",
       "  'wind_kph': 10.4,\n",
       "  'wind_degree': 134,\n",
       "  'wind_dir': 'SE',\n",
       "  'pressure_mb': 1028.0,\n",
       "  'pressure_in': 30.36,\n",
       "  'precip_mm': 0.0,\n",
       "  'precip_in': 0.0,\n",
       "  'humidity': 81,\n",
       "  'cloud': 50,\n",
       "  'feelslike_c': 7.4,\n",
       "  'feelslike_f': 45.2,\n",
       "  'windchill_c': 8.2,\n",
       "  'windchill_f': 46.7,\n",
       "  'heatindex_c': 9.7,\n",
       "  'heatindex_f': 49.4,\n",
       "  'dewpoint_c': 4.0,\n",
       "  'dewpoint_f': 39.2,\n",
       "  'vis_km': 10.0,\n",
       "  'vis_miles': 6.0,\n",
       "  'uv': 1.0,\n",
       "  'gust_mph': 8.2,\n",
       "  'gust_kph': 13.1}}"
      ]
     },
     "execution_count": 8,
     "metadata": {},
     "output_type": "execute_result"
    }
   ],
   "source": [
    "response.json()"
   ]
  }
 ],
 "metadata": {
  "kernelspec": {
   "display_name": "CAB_Module_1",
   "language": "python",
   "name": "python3"
  },
  "language_info": {
   "codemirror_mode": {
    "name": "ipython",
    "version": 3
   },
   "file_extension": ".py",
   "mimetype": "text/x-python",
   "name": "python",
   "nbconvert_exporter": "python",
   "pygments_lexer": "ipython3",
   "version": "3.11.9"
  }
 },
 "nbformat": 4,
 "nbformat_minor": 2
}
